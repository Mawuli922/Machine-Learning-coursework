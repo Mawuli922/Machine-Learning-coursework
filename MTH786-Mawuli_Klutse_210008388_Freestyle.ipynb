{
 "cells": [
  {
   "cell_type": "markdown",
   "metadata": {
    "deletable": false,
    "editable": false,
    "nbgrader": {
     "cell_type": "markdown",
     "checksum": "d1c6aff3e8c68d9b4a82541494f7a511",
     "grade": false,
     "grade_id": "cell-6dc7a3183b37e280",
     "locked": true,
     "schema_version": 3,
     "solution": false,
     "task": false
    }
   },
   "source": [
    "<div class=\"alert alert-block alert-danger\">\n",
    "Before you turn this problem in, make sure everything runs as expected. First, **restart the kernel** (in the menubar, select Kernel$\\rightarrow$Restart) and then **run all cells** (in the menubar, select Cell$\\rightarrow$Run All).\n",
    "\n",
    "Make sure you fill in any place that says `YOUR CODE HERE` and that you delete any **raise NotImplementedError()** once you have filled in your code. Enter your student identifier below:\n",
    "\n",
    "Start by filling in your Name and student ID below. **DO IT NOW**. Save this Jupyter Notebook with the name *MTH786P_surname_ID.ipynb*, where instead of *surname* and *ID* you write your surname and your student ID number.\n",
    "    \n",
    "Use the available cells to introduce the code. You can add additional cells if needed.\n",
    "</div>"
   ]
  },
  {
   "cell_type": "markdown",
   "metadata": {
    "deletable": false,
    "editable": false,
    "nbgrader": {
     "cell_type": "markdown",
     "checksum": "7a63382eabea26d2c8c98abfd8152308",
     "grade": false,
     "grade_id": "cell-f3f829ef946f39ee",
     "locked": true,
     "schema_version": 3,
     "solution": false,
     "task": false
    }
   },
   "source": [
    "<div class=\"alert alert-block alert-warning\">\n",
    "STUDENT NAME = \"\"\n",
    "    \n",
    "STUDENT ID = \"\"\n",
    "</div>"
   ]
  },
  {
   "cell_type": "markdown",
   "metadata": {
    "deletable": false,
    "editable": false,
    "nbgrader": {
     "cell_type": "markdown",
     "checksum": "ad8d70a7a5c9fb22a6a9a60de4de31a9",
     "grade": false,
     "grade_id": "cell-f427a39d62a942f1",
     "locked": true,
     "schema_version": 3,
     "solution": false,
     "task": false
    }
   },
   "source": [
    "## Fashion MNIST free-style\n",
    "\n",
    "This completes the first part of the assessment. From now on, you can use all concepts that you have learned throughout this module in order to obtain a classifier that can determine which fashion item is seen in a $28 \\times 28$ pixel picture. While you are allowed to use different libraries for visualisation purposes, you can only use NumPy to program your classifier; tools from libraries such as SciPy are not allowed. Please note that your classfier will be tested and compared with classifiers from other students. Experimenting with differnt model approaches, regularisation models & parameters and hyperparameter-tuning strategies such cross validation is therefore highly recommended.\n",
    "\n",
    "Some of the methods you may wish to try in an attempt to increase the classification accuracy are:\n",
    "- One versus all algorithm\n",
    "- Multilevel convolutional neural networks\n",
    "- Support Vector Machines"
   ]
  },
  {
   "cell_type": "code",
   "execution_count": 3,
   "metadata": {
    "deletable": false,
    "editable": false,
    "nbgrader": {
     "cell_type": "code",
     "checksum": "1763582bea6e6c8fb4ef4d6dd31eb829",
     "grade": false,
     "grade_id": "packages",
     "locked": true,
     "schema_version": 3,
     "solution": false,
     "task": false
    }
   },
   "outputs": [],
   "source": [
    "import numpy as np\n",
    "import matplotlib.pyplot as plt\n",
    "%matplotlib inline"
   ]
  },
  {
   "cell_type": "markdown",
   "metadata": {
    "deletable": false,
    "editable": false,
    "nbgrader": {
     "cell_type": "markdown",
     "checksum": "26428e237be4d3bbab46a29acf794839",
     "grade": false,
     "grade_id": "packages-instruction",
     "locked": true,
     "schema_version": 3,
     "solution": false,
     "task": false
    }
   },
   "source": [
    "Import any additional packages with the following cell."
   ]
  },
  {
   "cell_type": "code",
   "execution_count": 19,
   "metadata": {
    "nbgrader": {
     "cell_type": "code",
     "checksum": "a64fc4f530c71321deb4c975e2bf21c6",
     "grade": false,
     "grade_id": "additional-packages",
     "locked": false,
     "schema_version": 3,
     "solution": true,
     "task": false
    }
   },
   "outputs": [],
   "source": [
    "import seaborn as sns\n",
    "from sklearn.metrics import confusion_matrix"
   ]
  },
  {
   "cell_type": "markdown",
   "metadata": {
    "deletable": false,
    "editable": false,
    "nbgrader": {
     "cell_type": "markdown",
     "checksum": "c46ae3cececfbda25749b5fe5f288abc",
     "grade": false,
     "grade_id": "load-data-description",
     "locked": true,
     "schema_version": 3,
     "solution": false,
     "task": false
    }
   },
   "source": [
    "We begin by loading the Fashion MNIST training set that is taken from this [source](https://github.com/zalandoresearch/fashion-mnist/tree/master/data/fashion):"
   ]
  },
  {
   "cell_type": "code",
   "execution_count": 5,
   "metadata": {
    "deletable": false,
    "editable": false,
    "nbgrader": {
     "cell_type": "code",
     "checksum": "3617107ad0863a84f580686f4d21bec4",
     "grade": false,
     "grade_id": "load-data",
     "locked": true,
     "schema_version": 3,
     "solution": false,
     "task": false
    }
   },
   "outputs": [
    {
     "name": "stdout",
     "output_type": "stream",
     "text": [
      "The Fashion MNIST training set contains 60000 images with 784 pixels each.\n"
     ]
    },
    {
     "data": {
      "image/png": "[encoded data removed]",
      "text/plain": [
       "<Figure size 432x288 with 1 Axes>"
      ]
     },
     "metadata": {
      "needs_background": "light"
     },
     "output_type": "display_data"
    }
   ],
   "source": [
    "from data_loader import load_fashion_mnist\n",
    "images, labels = load_fashion_mnist('')\n",
    "fashion_labels_dictionary = dict()\n",
    "fashion_labels_dictionary[0] = 'T-shirt/top'\n",
    "fashion_labels_dictionary[1] = 'Trouser'\n",
    "fashion_labels_dictionary[2] = 'Pullover'\n",
    "fashion_labels_dictionary[3] = 'Dress'\n",
    "fashion_labels_dictionary[4] = 'Coat'\n",
    "fashion_labels_dictionary[5] = 'Sandal'\n",
    "fashion_labels_dictionary[6] = 'Shirt'\n",
    "fashion_labels_dictionary[7] = 'Sneaker'\n",
    "fashion_labels_dictionary[8] = 'Bag'\n",
    "fashion_labels_dictionary[9] = 'Ankle boot'\n",
    "\n",
    "print(\"The Fashion MNIST training set contains {s} images with {p} pixels each.\".format(s = images.shape[0], \\\n",
    "        p = images.shape[1]))\n",
    "\n",
    "item_number = 25\n",
    "\n",
    "plt.imshow(images[item_number,:].reshape(28, 28), cmap='gray')\n",
    "plt.title(\"This is the 13th image of the Fashion MNIST training set. The corresponding label is {l}\".format( \\\n",
    "            l=fashion_labels_dictionary[labels[item_number]]))\n",
    "plt.tight_layout;"
   ]
  },
  {
   "cell_type": "code",
   "execution_count": 8,
   "metadata": {},
   "outputs": [],
   "source": [
    "def polynomial_basis(inputs, degree=1):\n",
    "    X_poly = np.ones(len(inputs))\n",
    "    for num in range(1,degree+1):\n",
    "        X_poly = np.c_[X_poly,np.power(inputs,num)]\n",
    "    return X_poly"
   ]
  },
  {
   "cell_type": "code",
   "execution_count": 9,
   "metadata": {},
   "outputs": [],
   "source": [
    "data_matrix = polynomial_basis(standardise(images),1)\n",
    "outputs = one_hot_vector_encoding(labels)"
   ]
  },
  {
   "cell_type": "code",
   "execution_count": 10,
   "metadata": {},
   "outputs": [],
   "source": [
    "def one_hot_vector_encoding(labels):\n",
    "    unique = np.unique(labels)\n",
    "    n = 0\n",
    "    init_vec = np.zeros(len(labels))\n",
    "    while n<len(unique):\n",
    "        k=0\n",
    "        vec1 = np.zeros(len(labels))\n",
    "        while k<len(labels):\n",
    "            if unique[n]==labels[k]:\n",
    "                vec1[k] = 1\n",
    "            else:\n",
    "                vec1[k] = 0 \n",
    "            k=k+1\n",
    "        init_vec = np.append(init_vec,vec1)\n",
    "        n = n+1 \n",
    "    vect = np.split(init_vec, len(unique)+1)\n",
    "    del vect[0]\n",
    "    return np.transpose(vect)\n",
    " \n",
    "    \n",
    "def standardise(data_matrix):\n",
    "    row_of_means = np.mean(data_matrix, axis=0)\n",
    "    standardised_matrix = data_matrix - row_of_means\n",
    "    row_of_stds = np.std(standardised_matrix, axis=0)\n",
    "    return standardised_matrix / row_of_stds"
   ]
  },
  {
   "cell_type": "code",
   "execution_count": 11,
   "metadata": {},
   "outputs": [],
   "source": [
    "def softmax_function(argument, axis=None):\n",
    "    argument_a = argument-argument.max(axis =axis, keepdims = True)\n",
    "    argument_b = np.exp(argument_a)\n",
    "    return argument_b/argument_b.sum(axis=axis, keepdims = True)"
   ]
  },
  {
   "cell_type": "code",
   "execution_count": 12,
   "metadata": {},
   "outputs": [],
   "source": [
    "def multinomial_logistic_regression_cost_function(data_matrix, weight_matrix, one_hot_vector_encodings):\n",
    "    dot_matrix = np.dot(data_matrix,weight_matrix)\n",
    "    soft = softmax_function(dot_matrix)\n",
    "    m = data_matrix.shape[0]\n",
    "    y = one_hot_vector_encodings\n",
    "    return (-1/m)*(np.sum(y*np.log(soft)+ (1-y)*(np.log(1-soft)),axis = 1))\n",
    "    \n",
    "def multinomial_logistic_regression_gradient(data_matrix, weight_matrix, one_hot_vector_encodings):\n",
    "    multi_grad = np.transpose(data_matrix)@((softmax_function(data_matrix@weight_matrix, axis = 1))-one_hot_vector_encodings)\n",
    "    return multi_grad\n",
    "\n",
    "objective = lambda  weight_matrix:  (multinomial_logistic_regression_cost_function(data_matrix, weight_matrix, outputs))\n",
    "gradient = lambda  weight_matrix:  (multinomial_logistic_regression_gradient(data_matrix, weight_matrix, outputs))"
   ]
  },
  {
   "cell_type": "code",
   "execution_count": 13,
   "metadata": {},
   "outputs": [],
   "source": [
    "def data_split(data_matrix, outputs, chunks_number):\n",
    "    no_samples = data_matrix.shape[0]\n",
    "    indices = np.random.permutation(no_samples)\n",
    "\n",
    "    m, r = divmod(no_samples, chunks_number)\n",
    "    indices_split = [\n",
    "        indices[i * m + min(i, r):(i + 1) * m + min(i, r)] for i in range(chunks_number)\n",
    "    ]\n",
    "    data_chunks = [data_matrix[indices_split[i]] for i in range(chunks_number)]\n",
    "    output_chunks = [outputs[indices_split[i]] for i in range(chunks_number)] \n",
    "    return data_chunks , output_chunks\n",
    "\n",
    "def gradient_descent(objective, gradient, initial_weights, step_size=1, no_of_iterations=100, print_output=10):\n",
    "    objective_values = []\n",
    "    weights = np.copy(initial_weights)\n",
    "    objective_values.append(objective(weights))\n",
    "    for counter in range(no_of_iterations):\n",
    "        weights -= step_size * gradient(weights)\n",
    "        objective_values.append(objective(weights))\n",
    "        if (counter + 1) % print_output == 0:\n",
    "            print(\"Iteration {k}/{m}, objective = {o}.\".format(k=counter+1, \\\n",
    "                    m=no_of_iterations, o=objective_values[counter]))\n",
    "    print(\"Iteration completed after {k}/{m}, objective = {o}.\".format(k=counter + 1, \\\n",
    "                m=no_of_iterations, o=objective_values[counter]))\n",
    "    return weights, objective_values\n",
    "    "
   ]
  },
  {
   "cell_type": "code",
   "execution_count": 14,
   "metadata": {},
   "outputs": [
    {
     "name": "stdout",
     "output_type": "stream",
     "text": [
      "Iteration 5000/40000, objective = [0.00028711 0.00037594 0.00051502 ... 0.00041687 0.00048836 0.00043484].\n",
      "Iteration 10000/40000, objective = [0.00035096 0.00045405 0.00059738 ... 0.00049604 0.00056776 0.0005135 ].\n",
      "Iteration 15000/40000, objective = [0.00039854 0.0005107  0.00065521 ... 0.00055194 0.00062373 0.00056905].\n",
      "Iteration 20000/40000, objective = [0.00043393 0.00055293 0.00069794 ... 0.00059331 0.00066531 0.0006102 ].\n",
      "Iteration 25000/40000, objective = [0.00046099 0.00058551 0.00073085 ... 0.00062513 0.00069747 0.00064199].\n",
      "Iteration 30000/40000, objective = [0.00048259 0.00061171 0.0007574  ... 0.00065068 0.00072344 0.00066766].\n",
      "Iteration 35000/40000, objective = [0.00050043 0.00063348 0.00077956 ... 0.00067191 0.00074514 0.00068914].\n",
      "Iteration 40000/40000, objective = [0.00051553 0.000652   0.0007985  ... 0.00068996 0.00076369 0.00070752].\n",
      "Iteration completed after 40000/40000, objective = [0.00051553 0.000652   0.0007985  ... 0.00068996 0.00076369 0.00070752].\n"
     ]
    }
   ],
   "source": [
    "initial_weight_matrix = np.zeros((data_matrix.shape[1], outputs.shape[1]))\n",
    "optimal_weight_matrix, objective_values = gradient_descent(objective, gradient, initial_weight_matrix, \\\n",
    "                                    step_size=3.9/(np.linalg.norm(data_matrix, 2) ** 2), \\\n",
    "                                    no_of_iterations=40000, print_output=5000)"
   ]
  },
  {
   "cell_type": "code",
   "execution_count": 15,
   "metadata": {},
   "outputs": [],
   "source": [
    "def multinomial_prediction_function(data_matrix,weight_matrix):\n",
    "    dot_matrix = np.dot(data_matrix,weight_matrix)\n",
    "    softmax = softmax_function(dot_matrix, axis = 1)\n",
    "    return np.argmax(softmax, axis = 1)"
   ]
  },
  {
   "cell_type": "markdown",
   "metadata": {
    "deletable": false,
    "editable": false,
    "nbgrader": {
     "cell_type": "markdown",
     "checksum": "d8500a8d89dc1a513dbe993e0d7aaf94",
     "grade": false,
     "grade_id": "free-style-description",
     "locked": true,
     "schema_version": 3,
     "solution": false,
     "task": false
    }
   },
   "source": [
    "Use the following space to write your codes. It should be possible to reproduce results that are shown in your report with the codes that are described here. You can outsource functions into separate files if you find that this tidies up your notebook. Any additional libraries that you want to use (e.g. for visualisations etc.) can be loaded here."
   ]
  },
  {
   "cell_type": "code",
   "execution_count": 16,
   "metadata": {
    "nbgrader": {
     "cell_type": "code",
     "checksum": "d01aee53e1f14addabd27f5924f5eda0",
     "grade": false,
     "grade_id": "free-style",
     "locked": false,
     "schema_version": 3,
     "solution": true,
     "task": false
    }
   },
   "outputs": [],
   "source": [
    "predictions = multinomial_prediction_function(data_matrix,optimal_weight_matrix)"
   ]
  },
  {
   "cell_type": "code",
   "execution_count": 17,
   "metadata": {},
   "outputs": [],
   "source": [
    "def classification_accuracy(true_labels,predicted_labels):\n",
    "    accuracy = np.mean(true_labels == predicted_labels)\n",
    "    return accuracy"
   ]
  },
  {
   "cell_type": "code",
   "execution_count": 18,
   "metadata": {},
   "outputs": [
    {
     "data": {
      "text/plain": [
       "0.8784833333333333"
      ]
     },
     "execution_count": 18,
     "metadata": {},
     "output_type": "execute_result"
    }
   ],
   "source": [
    "classification_accuracy(labels, predictions)"
   ]
  },
  {
   "cell_type": "code",
   "execution_count": 21,
   "metadata": {},
   "outputs": [],
   "source": [
    "array1 = confusion_matrix(labels,predictions)"
   ]
  },
  {
   "cell_type": "code",
   "execution_count": 46,
   "metadata": {},
   "outputs": [
    {
     "data": {
      "image/png": "[encoded data removed]",
      "text/plain": [
       "<Figure size 864x360 with 2 Axes>"
      ]
     },
     "metadata": {
      "needs_background": "light"
     },
     "output_type": "display_data"
    }
   ],
   "source": [
    "plt.figure(figsize = (12,5))\n",
    "sns.heatmap(array1/6000,annot = True)\n",
    "plt.xlabel(\"Labels\")\n",
    "plt.ylabel(\"Predictions\")\n",
    "plt.title(\"Visualisation of Confusion Matrix of Predictions vs Labels\")\n",
    "plt.show()"
   ]
  },
  {
   "cell_type": "code",
   "execution_count": 27,
   "metadata": {},
   "outputs": [
    {
     "data": {
      "text/plain": [
       "array([[5112,   16,   84,  239,   26,    8,  460,    3,   51,    1],\n",
       "       [  10, 5850,   13,   97,   10,    0,   16,    2,    2,    0],\n",
       "       [  80,    6, 4687,   52,  651,    6,  488,    2,   27,    1],\n",
       "       [ 169,   41,   47, 5408,  173,    2,  137,    3,   18,    2],\n",
       "       [  17,    5,  462,  175, 4886,    3,  434,    1,   17,    0],\n",
       "       [   3,    1,    1,    1,    0, 5721,    2,  201,   18,   52],\n",
       "       [ 770,   14,  607,  177,  503,    1, 3861,    2,   61,    4],\n",
       "       [   1,    0,    1,    0,    0,  168,    0, 5665,    9,  156],\n",
       "       [  24,    3,   21,   32,   15,   31,   77,   17, 5773,    7],\n",
       "       [   0,    0,    0,    1,    0,   65,    0,  184,    4, 5746]],\n",
       "      dtype=int64)"
      ]
     },
     "execution_count": 27,
     "metadata": {},
     "output_type": "execute_result"
    }
   ],
   "source": [
    "array1"
   ]
  },
  {
   "cell_type": "code",
   "execution_count": 49,
   "metadata": {},
   "outputs": [
    {
     "data": {
      "image/png": "[encoded data removed]",
      "text/plain": [
       "<Figure size 432x288 with 1 Axes>"
      ]
     },
     "metadata": {
      "needs_background": "light"
     },
     "output_type": "display_data"
    }
   ],
   "source": [
    "unique_labels =np.unique(predictions, return_counts = True)[0]\n",
    "unique_counts = np.unique(predictions,return_counts = True)[1]\n",
    "plt.bar(unique_labels, unique_counts)\n",
    "plt.title(\"A bar graph of predicted labels\")\n",
    "plt.xticks([0,1,2,3,4,5,6,7,8,9])\n",
    "plt.show()"
   ]
  },
  {
   "cell_type": "code",
   "execution_count": 34,
   "metadata": {},
   "outputs": [
    {
     "data": {
      "text/plain": [
       "(array([0, 1, 2, 3, 4, 5, 6, 7, 8, 9], dtype=uint8),\n",
       " array([6000, 6000, 6000, 6000, 6000, 6000, 6000, 6000, 6000, 6000],\n",
       "       dtype=int64))"
      ]
     },
     "execution_count": 34,
     "metadata": {},
     "output_type": "execute_result"
    }
   ],
   "source": [
    "np.unique(labels, return_counts = True)"
   ]
  },
  {
   "cell_type": "code",
   "execution_count": 50,
   "metadata": {},
   "outputs": [
    {
     "data": {
      "text/plain": [
       "(array([0, 1, 2, 3, 4, 5, 6, 7, 8, 9], dtype=int64),\n",
       " array([6186, 5936, 5923, 6182, 6264, 6005, 5475, 6080, 5980, 5969],\n",
       "       dtype=int64))"
      ]
     },
     "execution_count": 50,
     "metadata": {},
     "output_type": "execute_result"
    }
   ],
   "source": [
    "np.unique(predictions, return_counts = True)"
   ]
  },
  {
   "cell_type": "markdown",
   "metadata": {
    "deletable": false,
    "editable": false,
    "nbgrader": {
     "cell_type": "markdown",
     "checksum": "0e8717d06dc6889aba5bef09f9a335fb",
     "grade": false,
     "grade_id": "end-of-project-info",
     "locked": true,
     "schema_version": 3,
     "solution": false,
     "task": false
    }
   },
   "source": [
    "This completes the MTH786 coding project requirements. Please do not forget to write a detailed report on your findings (at most 8 pages) with $\\LaTeX$ and your favourite editor. If no editor is at hand, please feel free to use online editors such as [Overleaf](https://www.overleaf.com)."
   ]
  },
  {
   "cell_type": "code",
   "execution_count": null,
   "metadata": {},
   "outputs": [],
   "source": []
  },
  {
   "cell_type": "code",
   "execution_count": null,
   "metadata": {},
   "outputs": [],
   "source": []
  }
 ],
 "metadata": {
  "hide_input": false,
  "kernelspec": {
   "display_name": "Python 3",
   "language": "python",
   "name": "python3"
  },
  "language_info": {
   "codemirror_mode": {
    "name": "ipython",
    "version": 3
   },
   "file_extension": ".py",
   "mimetype": "text/x-python",
   "name": "python",
   "nbconvert_exporter": "python",
   "pygments_lexer": "ipython3",
   "version": "3.8.5"
  },
  "toc": {
   "base_numbering": 1,
   "nav_menu": {},
   "number_sections": false,
   "sideBar": true,
   "skip_h1_title": false,
   "title_cell": "Table of Contents",
   "title_sidebar": "Contents",
   "toc_cell": false,
   "toc_position": {},
   "toc_section_display": true,
   "toc_window_display": false
  },
  "varInspector": {
   "cols": {
    "lenName": 16,
    "lenType": 16,
    "lenVar": 40
   },
   "kernels_config": {
    "python": {
     "delete_cmd_postfix": "",
     "delete_cmd_prefix": "del ",
     "library": "var_list.py",
     "varRefreshCmd": "print(var_dic_list())"
    },
    "r": {
     "delete_cmd_postfix": ") ",
     "delete_cmd_prefix": "rm(",
     "library": "var_list.r",
     "varRefreshCmd": "cat(var_dic_list()) "
    }
   },
   "types_to_exclude": [
    "module",
    "function",
    "builtin_function_or_method",
    "instance",
    "_Feature"
   ],
   "window_display": false
  }
 },
 "nbformat": 4,
 "nbformat_minor": 5
}
